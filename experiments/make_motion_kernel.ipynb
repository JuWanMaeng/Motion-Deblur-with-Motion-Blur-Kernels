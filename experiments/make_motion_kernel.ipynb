{
 "cells": [
  {
   "cell_type": "code",
   "execution_count": 2,
   "metadata": {},
   "outputs": [],
   "source": [
    "from motionblur.motionblur import Kernel\n",
    "import random\n",
    "from tqdm import tqdm\n",
    "import cv2\n",
    "import numpy as np\n",
    "import os"
   ]
  },
  {
   "cell_type": "markdown",
   "metadata": {},
   "source": []
  },
  {
   "cell_type": "code",
   "execution_count": 7,
   "metadata": {},
   "outputs": [
    {
     "name": "stderr",
     "output_type": "stream",
     "text": [
      "100%|██████████| 50000/50000 [00:32<00:00, 1538.42it/s]\n"
     ]
    }
   ],
   "source": [
    "# Initialise Kernel\n",
    "kernel_size=16\n",
    "\n",
    "for i in tqdm(range(0,50000)):\n",
    "    num=random.uniform(0.2,1.0)\n",
    "\n",
    "    kernel = Kernel(size=(kernel_size,kernel_size), intensity=num)\n",
    "\n",
    "\n",
    "    # Save kernel as image. (Do not show kernel, just save.)\n",
    "    kernel.displayKernel(save_to=f\"/raid/joowan/kernels_16/{i}.png\", show=False)\n",
    "\n",
    "\n",
    "\n",
    "\n",
    "def generate_gaussian_kernel(size, sigma):\n",
    "    # Generate a 1D Gaussian kernel\n",
    "    gk_1d = cv2.getGaussianKernel(size, sigma)\n",
    "    # Create a 2D Gaussian kernel from the outer product of the 1D kernel\n",
    "    gk_2d = np.outer(gk_1d, gk_1d)\n",
    "    return gk_2d\n",
    "\n",
    "def save_kernels_to_folder(num_kernels, size, sigma_range, save_folder):\n",
    "    if not os.path.exists(save_folder):\n",
    "        os.makedirs(save_folder)\n",
    "\n",
    "    for i in range(50000,num_kernels+50000):\n",
    "        # Sample a random sigma from the given range\n",
    "        sigma = np.random.uniform(sigma_range[0], sigma_range[1])\n",
    "        kernel = generate_gaussian_kernel(size, sigma)\n",
    "        \n",
    "        # Normalize the kernel values to [0, 255] for saving as an image\n",
    "        normalized_kernel = ((kernel - kernel.min()) * (1/(kernel.max() - kernel.min()) * 255)).astype('uint8')\n",
    "        \n",
    "        filename = os.path.join(save_folder, f'{i}.png')\n",
    "        cv2.imwrite(filename, normalized_kernel)\n",
    "\n",
    "# Parameters\n",
    "num_kernels = 10000\n",
    "size = kernel_size\n",
    "sigma_range = (0.1, 5.0)\n",
    "save_folder = '/raid/joowan/kernels_16'  # Replace with your desired folder path\n",
    "\n",
    "save_kernels_to_folder(num_kernels, size, sigma_range, save_folder)\n"
   ]
  },
  {
   "cell_type": "code",
   "execution_count": 8,
   "metadata": {},
   "outputs": [
    {
     "name": "stdout",
     "output_type": "stream",
     "text": [
      "60000\n"
     ]
    }
   ],
   "source": [
    "print(len(os.listdir('/raid/joowan/kernels_16')))"
   ]
  },
  {
   "cell_type": "code",
   "execution_count": null,
   "metadata": {},
   "outputs": [],
   "source": []
  }
 ],
 "metadata": {
  "kernelspec": {
   "display_name": "base",
   "language": "python",
   "name": "python3"
  },
  "language_info": {
   "codemirror_mode": {
    "name": "ipython",
    "version": 3
   },
   "file_extension": ".py",
   "mimetype": "text/x-python",
   "name": "python",
   "nbconvert_exporter": "python",
   "pygments_lexer": "ipython3",
   "version": "3.8.18"
  },
  "orig_nbformat": 4
 },
 "nbformat": 4,
 "nbformat_minor": 2
}
